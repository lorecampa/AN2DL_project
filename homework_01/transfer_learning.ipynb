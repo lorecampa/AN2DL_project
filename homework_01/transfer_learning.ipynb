{
 "cells": [
  {
   "cell_type": "markdown",
   "metadata": {},
   "source": [
    "### Import libraries"
   ]
  },
  {
   "cell_type": "code",
   "execution_count": null,
   "metadata": {},
   "outputs": [],
   "source": [
    "# Fix randomness and hide warnings\n",
    "seed = 42\n",
    "\n",
    "import os\n",
    "os.environ['TF_CPP_MIN_LOG_LEVEL'] = '3'\n",
    "os.environ['PYTHONHASHSEED'] = str(seed)\n",
    "os.environ['MPLCONFIGDIR'] = os.getcwd()+'/configs/'\n",
    "\n",
    "import warnings\n",
    "warnings.simplefilter(action='ignore', category=FutureWarning)\n",
    "warnings.simplefilter(action='ignore', category=Warning)\n",
    "\n",
    "import numpy as np\n",
    "np.random.seed(seed)\n",
    "\n",
    "import logging\n",
    "\n",
    "import random\n",
    "random.seed(seed)"
   ]
  },
  {
   "cell_type": "code",
   "execution_count": null,
   "metadata": {},
   "outputs": [],
   "source": [
    "# Import tensorflow\n",
    "import tensorflow as tf\n",
    "from tensorflow import keras as tfk\n",
    "from tensorflow.keras import layers as tfkl\n",
    "from tensorflow.keras.applications.xception import preprocess_input as xception_preprocess_input\n",
    "tf.autograph.set_verbosity(0)\n",
    "tf.get_logger().setLevel(logging.ERROR)\n",
    "tf.compat.v1.logging.set_verbosity(tf.compat.v1.logging.ERROR)\n",
    "tf.random.set_seed(seed)\n",
    "tf.compat.v1.set_random_seed(seed)\n",
    "print(tf.__version__)\n",
    "\n",
    "models_dir = 'models'"
   ]
  },
  {
   "cell_type": "code",
   "execution_count": null,
   "metadata": {},
   "outputs": [],
   "source": [
    "# Import other libraries\n",
    "import matplotlib.pyplot as plt\n",
    "import pandas as pd\n",
    "from sklearn.model_selection import train_test_split\n",
    "from sklearn.metrics import accuracy_score, f1_score, precision_score, recall_score, confusion_matrix\n",
    "import seaborn as sns"
   ]
  },
  {
   "cell_type": "markdown",
   "metadata": {},
   "source": [
    "### Splitting"
   ]
  },
  {
   "cell_type": "code",
   "execution_count": 67,
   "metadata": {},
   "outputs": [],
   "source": [
    "processed_data = np.load('processed_data.npz')\n",
    "X = processed_data['X']\n",
    "y = processed_data['y']\n",
    "labels = {0:'healthy', 1:'unhealthy'}\n"
   ]
  },
  {
   "cell_type": "code",
   "execution_count": null,
   "metadata": {},
   "outputs": [],
   "source": [
    "X_train_val, X_test, y_train_val, y_test = train_test_split(\n",
    "    X, \n",
    "    y,\n",
    "    test_size=0.1,\n",
    "    stratify=y,\n",
    "    random_state=seed\n",
    ")\n",
    "# Further split the combined training and validation set into a training set and a validation set\n",
    "X_train, X_val, y_train, y_val = train_test_split(\n",
    "    X_train_val,\n",
    "    y_train_val,\n",
    "    test_size = len(X_test), # Ensure validation set size matches test set size\n",
    "    stratify=y_train_val,\n",
    "    random_state=seed\n",
    ")\n",
    "\n",
    "# Print the shapes of the resulting datasets\n",
    "print(\"Training_Validation Data Shape:\", X_train_val.shape)\n",
    "print(\"Training_Validation Label Shape:\", y_train_val.shape)\n",
    "print(\"Train Data Shape:\", X_train.shape)\n",
    "print(\"Train Label Shape:\", y_train.shape)\n",
    "print(\"Validation Data Shape:\", X_val.shape)\n",
    "print(\"Validation Label Shape:\", y_val.shape)\n",
    "print(\"Test Data Shape:\", X_test.shape)\n",
    "print(\"Test Label Shape:\", y_test.shape)"
   ]
  },
  {
   "cell_type": "code",
   "execution_count": null,
   "metadata": {},
   "outputs": [],
   "source": [
    "# Display the count of occurrences of target classes in the training-validation dataset\n",
    "print('Counting occurrences of y_train classes:')\n",
    "print(pd.DataFrame(np.argmax(y_train, axis=-1), columns=['class']).value_counts())\n",
    "\n",
    "print('Counting occurrences of y_val classes:')\n",
    "print(pd.DataFrame(np.argmax(y_val, axis=-1), columns=['class']).value_counts())\n",
    "\n",
    "print('Counting occurrences of y_test classes:')\n",
    "print(pd.DataFrame(np.argmax(y_val, axis=-1), columns=['class']).value_counts())\n"
   ]
  },
  {
   "cell_type": "code",
   "execution_count": null,
   "metadata": {},
   "outputs": [],
   "source": [
    "# Define batch size, number of epochs, learning rate, input shape, and output shape\n",
    "batch_size = 16\n",
    "epochs = 200\n",
    "learning_rate = 1e-4\n",
    "input_shape = X_train.shape[1:]\n",
    "output_shape = y_train.shape[-1]\n",
    "\n",
    "# Print batch size, epochs, learning rate, input shape, and output shape\n",
    "print(f\"Batch Size: {batch_size}, Epochs: {epochs}, Learning Rate: {learning_rate}\")\n",
    "print(f\"Input Shape: {input_shape}, Output Shape: {output_shape}\")"
   ]
  },
  {
   "cell_type": "code",
   "execution_count": null,
   "metadata": {},
   "outputs": [],
   "source": [
    "# Define two callback functions for early stopping and learning rate reduction\n",
    "callbacks=[\n",
    "    tfk.callbacks.EarlyStopping(monitor='val_accuracy', patience=10, restore_best_weights=True, mode='max'),\n",
    "]"
   ]
  },
  {
   "cell_type": "markdown",
   "metadata": {},
   "source": [
    "# Xception"
   ]
  },
  {
   "cell_type": "markdown",
   "metadata": {},
   "source": [
    "## Transfer Learning"
   ]
  },
  {
   "cell_type": "code",
   "execution_count": 31,
   "metadata": {},
   "outputs": [],
   "source": [
    "baseline_model = tfk.applications.Xception(\n",
    "    include_top=False,\n",
    "    weights=\"imagenet\",\n",
    "    input_shape=input_shape,\n",
    ")"
   ]
  },
  {
   "cell_type": "code",
   "execution_count": 46,
   "metadata": {},
   "outputs": [
    {
     "name": "stderr",
     "output_type": "stream",
     "text": [
      "WARNING:absl:At this time, the v2.11+ optimizer `tf.keras.optimizers.Adam` runs slowly on M1/M2 Macs, please use the legacy Keras optimizer instead, located at `tf.keras.optimizers.legacy.Adam`.\n"
     ]
    },
    {
     "name": "stdout",
     "output_type": "stream",
     "text": [
      "Model: \"xception_tl_model\"\n",
      "_________________________________________________________________\n",
      " Layer (type)                Output Shape              Param #   \n",
      "=================================================================\n",
      " input_13 (InputLayer)       [(None, 96, 96, 3)]       0         \n",
      "                                                                 \n",
      " xception (Functional)       (None, 3, 3, 2048)        20861480  \n",
      "                                                                 \n",
      " global_average_pooling2d_9  (None, 2048)              0         \n",
      "  (GlobalAveragePooling2D)                                       \n",
      "                                                                 \n",
      " dense_27 (Dense)            (None, 128)               262272    \n",
      "                                                                 \n",
      " dense_28 (Dense)            (None, 64)                8256      \n",
      "                                                                 \n",
      " dense_29 (Dense)            (None, 2)                 130       \n",
      "                                                                 \n",
      "=================================================================\n",
      "Total params: 21132138 (80.61 MB)\n",
      "Trainable params: 270658 (1.03 MB)\n",
      "Non-trainable params: 20861480 (79.58 MB)\n",
      "_________________________________________________________________\n"
     ]
    }
   ],
   "source": [
    "baseline_model.trainable = False\n",
    "\n",
    "input_layer = tfk.Input(shape=input_shape)\n",
    "\n",
    "x = baseline_model(input_layer)\n",
    "x = tfkl.GlobalAveragePooling2D()(x)\n",
    "x = tfkl.Dense(128, activation='relu')(x)\n",
    "x = tfkl.Dense(64, activation='relu')(x)\n",
    "output_layer = tfkl.Dense(output_shape, activation='softmax')(x)\n",
    "# Create a Model connecting input and output\n",
    "tl_model = tfk.Model(inputs=input_layer, outputs=output_layer, name='xception_tl_model')\n",
    "\n",
    "tl_model.compile(loss=tfk.losses.CategoricalCrossentropy(), optimizer=tfk.optimizers.Adam(), metrics=['accuracy'])\n",
    "\n",
    "# Display model summary\n",
    "tl_model.summary()\n"
   ]
  },
  {
   "cell_type": "code",
   "execution_count": 47,
   "metadata": {},
   "outputs": [
    {
     "name": "stdout",
     "output_type": "stream",
     "text": [
      "Epoch 1/200\n",
      "251/251 [==============================] - 32s 125ms/step - loss: 0.5562 - accuracy: 0.7244 - val_loss: 0.5128 - val_accuracy: 0.7385\n",
      "Epoch 2/200\n",
      "251/251 [==============================] - 30s 120ms/step - loss: 0.4665 - accuracy: 0.7831 - val_loss: 0.5453 - val_accuracy: 0.7305\n",
      "Epoch 3/200\n",
      "251/251 [==============================] - 30s 120ms/step - loss: 0.4116 - accuracy: 0.8098 - val_loss: 0.4924 - val_accuracy: 0.7665\n",
      "Epoch 4/200\n",
      "251/251 [==============================] - 30s 119ms/step - loss: 0.3774 - accuracy: 0.8328 - val_loss: 0.4901 - val_accuracy: 0.7625\n",
      "Epoch 5/200\n",
      "251/251 [==============================] - 31s 125ms/step - loss: 0.3442 - accuracy: 0.8511 - val_loss: 0.5109 - val_accuracy: 0.7705\n",
      "Epoch 6/200\n",
      "251/251 [==============================] - 32s 126ms/step - loss: 0.2888 - accuracy: 0.8741 - val_loss: 0.5359 - val_accuracy: 0.7904\n",
      "Epoch 7/200\n",
      "251/251 [==============================] - 30s 120ms/step - loss: 0.2591 - accuracy: 0.8891 - val_loss: 0.5851 - val_accuracy: 0.7685\n",
      "Epoch 8/200\n",
      "251/251 [==============================] - 30s 119ms/step - loss: 0.2305 - accuracy: 0.9033 - val_loss: 0.6290 - val_accuracy: 0.7884\n",
      "Epoch 9/200\n",
      "251/251 [==============================] - 34s 136ms/step - loss: 0.1934 - accuracy: 0.9208 - val_loss: 0.6827 - val_accuracy: 0.7804\n",
      "Epoch 10/200\n",
      "251/251 [==============================] - 33s 131ms/step - loss: 0.1682 - accuracy: 0.9303 - val_loss: 0.7087 - val_accuracy: 0.7705\n",
      "Epoch 11/200\n",
      "251/251 [==============================] - 30s 118ms/step - loss: 0.1372 - accuracy: 0.9428 - val_loss: 0.7665 - val_accuracy: 0.7645\n",
      "Epoch 12/200\n",
      "251/251 [==============================] - 30s 120ms/step - loss: 0.1311 - accuracy: 0.9485 - val_loss: 0.8067 - val_accuracy: 0.7665\n",
      "Epoch 13/200\n",
      "251/251 [==============================] - 33s 132ms/step - loss: 0.1353 - accuracy: 0.9463 - val_loss: 0.8759 - val_accuracy: 0.7645\n",
      "Epoch 14/200\n",
      "251/251 [==============================] - 32s 128ms/step - loss: 0.1046 - accuracy: 0.9600 - val_loss: 0.9573 - val_accuracy: 0.7784\n",
      "Epoch 15/200\n",
      "251/251 [==============================] - 32s 127ms/step - loss: 0.1126 - accuracy: 0.9565 - val_loss: 1.0690 - val_accuracy: 0.7485\n",
      "Epoch 16/200\n",
      "251/251 [==============================] - 32s 126ms/step - loss: 0.0723 - accuracy: 0.9733 - val_loss: 1.1125 - val_accuracy: 0.7625\n"
     ]
    }
   ],
   "source": [
    "# Train the model\n",
    "tl_history = tl_model.fit(\n",
    "    x = xception_preprocess_input(X_train*255),\n",
    "    y = y_train,\n",
    "    batch_size = batch_size,\n",
    "    epochs = epochs,\n",
    "    validation_data = (xception_preprocess_input(X_val*255), y_val),\n",
    "    callbacks = callbacks\n",
    ").history\n",
    "\n",
    "tl_model.save('models/xception_tl_model')\n",
    "del tl_model\n"
   ]
  },
  {
   "cell_type": "code",
   "execution_count": 50,
   "metadata": {},
   "outputs": [
    {
     "data": {
      "image/png": "[encoded data removed]",
      "text/plain": [
       "<Figure size 1500x500 with 1 Axes>"
      ]
     },
     "metadata": {},
     "output_type": "display_data"
    },
    {
     "data": {
      "image/png": "[encoded data removed]",
      "text/plain": [
       "<Figure size 1500x500 with 1 Axes>"
      ]
     },
     "metadata": {},
     "output_type": "display_data"
    }
   ],
   "source": [
    "# Plot the transfer learning xception training histories\n",
    "plt.figure(figsize=(15,5))\n",
    "plt.plot(tl_history['loss'], alpha=.3, color='#ff7f0e', linestyle='--')\n",
    "plt.plot(tl_history['val_loss'], label='Xception val_loss', alpha=.8, color='#ff7f0e')\n",
    "plt.legend(loc='upper left')\n",
    "plt.title('Categorical Crossentropy')\n",
    "plt.grid(alpha=.3)\n",
    "\n",
    "plt.figure(figsize=(15,5))\n",
    "plt.plot(tl_history['accuracy'], alpha=.3, color='#ff7f0e', linestyle='--')\n",
    "plt.plot(tl_history['val_accuracy'], label='Xception val_accuracy', alpha=.8, color='#ff7f0e')\n",
    "plt.legend(loc='upper left')\n",
    "plt.title('Accuracy')\n",
    "plt.grid(alpha=.3)\n",
    "\n",
    "plt.show()"
   ]
  },
  {
   "cell_type": "markdown",
   "metadata": {},
   "source": [
    "## Fine Tuning"
   ]
  },
  {
   "cell_type": "code",
   "execution_count": 56,
   "metadata": {},
   "outputs": [
    {
     "name": "stderr",
     "output_type": "stream",
     "text": [
      "WARNING:absl:At this time, the v2.11+ optimizer `tf.keras.optimizers.RestoredOptimizer` runs slowly on M1/M2 Macs, please use the legacy Keras optimizer instead, located at `tf.keras.optimizers.legacy.RestoredOptimizer`.\n",
      "WARNING:absl:At this time, the v2.11+ optimizer `tf.keras.optimizers.Adam` runs slowly on M1/M2 Macs, please use the legacy Keras optimizer instead, located at `tf.keras.optimizers.legacy.Adam`.\n"
     ]
    },
    {
     "name": "stdout",
     "output_type": "stream",
     "text": [
      "Model: \"xception_tl_model\"\n",
      "_________________________________________________________________\n",
      " Layer (type)                Output Shape              Param #   \n",
      "=================================================================\n",
      " input_13 (InputLayer)       [(None, 96, 96, 3)]       0         \n",
      "                                                                 \n",
      " xception (Functional)       (None, 3, 3, 2048)        20861480  \n",
      "                                                                 \n",
      " global_average_pooling2d_9  (None, 2048)              0         \n",
      "  (GlobalAveragePooling2D)                                       \n",
      "                                                                 \n",
      " dense_27 (Dense)            (None, 128)               262272    \n",
      "                                                                 \n",
      " dense_28 (Dense)            (None, 64)                8256      \n",
      "                                                                 \n",
      " dense_29 (Dense)            (None, 2)                 130       \n",
      "                                                                 \n",
      "=================================================================\n",
      "Total params: 21132138 (80.61 MB)\n",
      "Trainable params: 270658 (1.03 MB)\n",
      "Non-trainable params: 20861480 (79.58 MB)\n",
      "_________________________________________________________________\n"
     ]
    }
   ],
   "source": [
    "# Re-load the model after transfer learning\n",
    "ft_model = tfk.models.load_model('models/xception_tl_model')\n",
    "ft_model.summary()"
   ]
  },
  {
   "cell_type": "code",
   "execution_count": 57,
   "metadata": {},
   "outputs": [
    {
     "name": "stdout",
     "output_type": "stream",
     "text": [
      "0 input_5 True\n",
      "1 block1_conv1 True\n",
      "2 block1_conv1_bn True\n",
      "3 block1_conv1_act True\n",
      "4 block1_conv2 True\n",
      "5 block1_conv2_bn True\n",
      "6 block1_conv2_act True\n",
      "7 block2_sepconv1 True\n",
      "8 block2_sepconv1_bn True\n",
      "9 block2_sepconv2_act True\n",
      "10 block2_sepconv2 True\n",
      "11 block2_sepconv2_bn True\n",
      "12 conv2d_8 True\n",
      "13 block2_pool True\n",
      "14 batch_normalization_8 True\n",
      "15 add_24 True\n",
      "16 block3_sepconv1_act True\n",
      "17 block3_sepconv1 True\n",
      "18 block3_sepconv1_bn True\n",
      "19 block3_sepconv2_act True\n",
      "20 block3_sepconv2 True\n",
      "21 block3_sepconv2_bn True\n",
      "22 conv2d_9 True\n",
      "23 block3_pool True\n",
      "24 batch_normalization_9 True\n",
      "25 add_25 True\n",
      "26 block4_sepconv1_act True\n",
      "27 block4_sepconv1 True\n",
      "28 block4_sepconv1_bn True\n",
      "29 block4_sepconv2_act True\n",
      "30 block4_sepconv2 True\n",
      "31 block4_sepconv2_bn True\n",
      "32 conv2d_10 True\n",
      "33 block4_pool True\n",
      "34 batch_normalization_10 True\n",
      "35 add_26 True\n",
      "36 block5_sepconv1_act True\n",
      "37 block5_sepconv1 True\n",
      "38 block5_sepconv1_bn True\n",
      "39 block5_sepconv2_act True\n",
      "40 block5_sepconv2 True\n",
      "41 block5_sepconv2_bn True\n",
      "42 block5_sepconv3_act True\n",
      "43 block5_sepconv3 True\n",
      "44 block5_sepconv3_bn True\n",
      "45 add_27 True\n",
      "46 block6_sepconv1_act True\n",
      "47 block6_sepconv1 True\n",
      "48 block6_sepconv1_bn True\n",
      "49 block6_sepconv2_act True\n",
      "50 block6_sepconv2 True\n",
      "51 block6_sepconv2_bn True\n",
      "52 block6_sepconv3_act True\n",
      "53 block6_sepconv3 True\n",
      "54 block6_sepconv3_bn True\n",
      "55 add_28 True\n",
      "56 block7_sepconv1_act True\n",
      "57 block7_sepconv1 True\n",
      "58 block7_sepconv1_bn True\n",
      "59 block7_sepconv2_act True\n",
      "60 block7_sepconv2 True\n",
      "61 block7_sepconv2_bn True\n",
      "62 block7_sepconv3_act True\n",
      "63 block7_sepconv3 True\n",
      "64 block7_sepconv3_bn True\n",
      "65 add_29 True\n",
      "66 block8_sepconv1_act True\n",
      "67 block8_sepconv1 True\n",
      "68 block8_sepconv1_bn True\n",
      "69 block8_sepconv2_act True\n",
      "70 block8_sepconv2 True\n",
      "71 block8_sepconv2_bn True\n",
      "72 block8_sepconv3_act True\n",
      "73 block8_sepconv3 True\n",
      "74 block8_sepconv3_bn True\n",
      "75 add_30 True\n",
      "76 block9_sepconv1_act True\n",
      "77 block9_sepconv1 True\n",
      "78 block9_sepconv1_bn True\n",
      "79 block9_sepconv2_act True\n",
      "80 block9_sepconv2 True\n",
      "81 block9_sepconv2_bn True\n",
      "82 block9_sepconv3_act True\n",
      "83 block9_sepconv3 True\n",
      "84 block9_sepconv3_bn True\n",
      "85 add_31 True\n",
      "86 block10_sepconv1_act True\n",
      "87 block10_sepconv1 True\n",
      "88 block10_sepconv1_bn True\n",
      "89 block10_sepconv2_act True\n",
      "90 block10_sepconv2 True\n",
      "91 block10_sepconv2_bn True\n",
      "92 block10_sepconv3_act True\n",
      "93 block10_sepconv3 True\n",
      "94 block10_sepconv3_bn True\n",
      "95 add_32 True\n",
      "96 block11_sepconv1_act True\n",
      "97 block11_sepconv1 True\n",
      "98 block11_sepconv1_bn True\n",
      "99 block11_sepconv2_act True\n",
      "100 block11_sepconv2 True\n",
      "101 block11_sepconv2_bn True\n",
      "102 block11_sepconv3_act True\n",
      "103 block11_sepconv3 True\n",
      "104 block11_sepconv3_bn True\n",
      "105 add_33 True\n",
      "106 block12_sepconv1_act True\n",
      "107 block12_sepconv1 True\n",
      "108 block12_sepconv1_bn True\n",
      "109 block12_sepconv2_act True\n",
      "110 block12_sepconv2 True\n",
      "111 block12_sepconv2_bn True\n",
      "112 block12_sepconv3_act True\n",
      "113 block12_sepconv3 True\n",
      "114 block12_sepconv3_bn True\n",
      "115 add_34 True\n",
      "116 block13_sepconv1_act True\n",
      "117 block13_sepconv1 True\n",
      "118 block13_sepconv1_bn True\n",
      "119 block13_sepconv2_act True\n",
      "120 block13_sepconv2 True\n",
      "121 block13_sepconv2_bn True\n",
      "122 conv2d_11 True\n",
      "123 block13_pool True\n",
      "124 batch_normalization_11 True\n",
      "125 add_35 True\n",
      "126 block14_sepconv1 True\n",
      "127 block14_sepconv1_bn True\n",
      "128 block14_sepconv1_act True\n",
      "129 block14_sepconv2 True\n",
      "130 block14_sepconv2_bn True\n",
      "131 block14_sepconv2_act True\n"
     ]
    }
   ],
   "source": [
    "# Set all xception layers as trainable\n",
    "ft_model.get_layer('xception').trainable = True\n",
    "layers = ft_model.get_layer('xception').layers\n",
    "for i, layer in enumerate(layers):\n",
    "   print(i, layer.name, layer.trainable)"
   ]
  },
  {
   "cell_type": "code",
   "execution_count": 58,
   "metadata": {},
   "outputs": [
    {
     "name": "stdout",
     "output_type": "stream",
     "text": [
      "0 input_5 False\n",
      "1 block1_conv1 False\n",
      "2 block1_conv1_bn False\n",
      "3 block1_conv1_act False\n",
      "4 block1_conv2 False\n",
      "5 block1_conv2_bn False\n",
      "6 block1_conv2_act False\n",
      "7 block2_sepconv1 False\n",
      "8 block2_sepconv1_bn False\n",
      "9 block2_sepconv2_act False\n",
      "10 block2_sepconv2 False\n",
      "11 block2_sepconv2_bn False\n",
      "12 conv2d_8 False\n",
      "13 block2_pool False\n",
      "14 batch_normalization_8 False\n",
      "15 add_24 False\n",
      "16 block3_sepconv1_act False\n",
      "17 block3_sepconv1 False\n",
      "18 block3_sepconv1_bn False\n",
      "19 block3_sepconv2_act False\n",
      "20 block3_sepconv2 False\n",
      "21 block3_sepconv2_bn False\n",
      "22 conv2d_9 False\n",
      "23 block3_pool False\n",
      "24 batch_normalization_9 False\n",
      "25 add_25 False\n",
      "26 block4_sepconv1_act False\n",
      "27 block4_sepconv1 False\n",
      "28 block4_sepconv1_bn False\n",
      "29 block4_sepconv2_act False\n",
      "30 block4_sepconv2 False\n",
      "31 block4_sepconv2_bn False\n",
      "32 conv2d_10 False\n",
      "33 block4_pool False\n",
      "34 batch_normalization_10 False\n",
      "35 add_26 False\n",
      "36 block5_sepconv1_act False\n",
      "37 block5_sepconv1 False\n",
      "38 block5_sepconv1_bn False\n",
      "39 block5_sepconv2_act False\n",
      "40 block5_sepconv2 False\n",
      "41 block5_sepconv2_bn False\n",
      "42 block5_sepconv3_act False\n",
      "43 block5_sepconv3 False\n",
      "44 block5_sepconv3_bn False\n",
      "45 add_27 False\n",
      "46 block6_sepconv1_act False\n",
      "47 block6_sepconv1 False\n",
      "48 block6_sepconv1_bn False\n",
      "49 block6_sepconv2_act False\n",
      "50 block6_sepconv2 False\n",
      "51 block6_sepconv2_bn False\n",
      "52 block6_sepconv3_act False\n",
      "53 block6_sepconv3 False\n",
      "54 block6_sepconv3_bn False\n",
      "55 add_28 False\n",
      "56 block7_sepconv1_act False\n",
      "57 block7_sepconv1 False\n",
      "58 block7_sepconv1_bn False\n",
      "59 block7_sepconv2_act False\n",
      "60 block7_sepconv2 False\n",
      "61 block7_sepconv2_bn False\n",
      "62 block7_sepconv3_act False\n",
      "63 block7_sepconv3 False\n",
      "64 block7_sepconv3_bn False\n",
      "65 add_29 False\n",
      "66 block8_sepconv1_act False\n",
      "67 block8_sepconv1 False\n",
      "68 block8_sepconv1_bn False\n",
      "69 block8_sepconv2_act False\n",
      "70 block8_sepconv2 False\n",
      "71 block8_sepconv2_bn False\n",
      "72 block8_sepconv3_act False\n",
      "73 block8_sepconv3 False\n",
      "74 block8_sepconv3_bn False\n",
      "75 add_30 False\n",
      "76 block9_sepconv1_act False\n",
      "77 block9_sepconv1 False\n",
      "78 block9_sepconv1_bn False\n",
      "79 block9_sepconv2_act False\n",
      "80 block9_sepconv2 False\n",
      "81 block9_sepconv2_bn False\n",
      "82 block9_sepconv3_act False\n",
      "83 block9_sepconv3 False\n",
      "84 block9_sepconv3_bn False\n",
      "85 add_31 False\n",
      "86 block10_sepconv1_act False\n",
      "87 block10_sepconv1 False\n",
      "88 block10_sepconv1_bn False\n",
      "89 block10_sepconv2_act False\n",
      "90 block10_sepconv2 False\n",
      "91 block10_sepconv2_bn False\n",
      "92 block10_sepconv3_act False\n",
      "93 block10_sepconv3 False\n",
      "94 block10_sepconv3_bn False\n",
      "95 add_32 False\n",
      "96 block11_sepconv1_act False\n",
      "97 block11_sepconv1 False\n",
      "98 block11_sepconv1_bn False\n",
      "99 block11_sepconv2_act False\n",
      "100 block11_sepconv2 True\n",
      "101 block11_sepconv2_bn True\n",
      "102 block11_sepconv3_act True\n",
      "103 block11_sepconv3 True\n",
      "104 block11_sepconv3_bn True\n",
      "105 add_33 True\n",
      "106 block12_sepconv1_act True\n",
      "107 block12_sepconv1 True\n",
      "108 block12_sepconv1_bn True\n",
      "109 block12_sepconv2_act True\n",
      "110 block12_sepconv2 True\n",
      "111 block12_sepconv2_bn True\n",
      "112 block12_sepconv3_act True\n",
      "113 block12_sepconv3 True\n",
      "114 block12_sepconv3_bn True\n",
      "115 add_34 True\n",
      "116 block13_sepconv1_act True\n",
      "117 block13_sepconv1 True\n",
      "118 block13_sepconv1_bn True\n",
      "119 block13_sepconv2_act True\n",
      "120 block13_sepconv2 True\n",
      "121 block13_sepconv2_bn True\n",
      "122 conv2d_11 True\n",
      "123 block13_pool True\n",
      "124 batch_normalization_11 True\n",
      "125 add_35 True\n",
      "126 block14_sepconv1 True\n",
      "127 block14_sepconv1_bn True\n",
      "128 block14_sepconv1_act True\n",
      "129 block14_sepconv2 True\n",
      "130 block14_sepconv2_bn True\n",
      "131 block14_sepconv2_act True\n",
      "Model: \"xception_tl_model\"\n",
      "_________________________________________________________________\n",
      " Layer (type)                Output Shape              Param #   \n",
      "=================================================================\n",
      " input_13 (InputLayer)       [(None, 96, 96, 3)]       0         \n",
      "                                                                 \n",
      " xception (Functional)       (None, 3, 3, 2048)        20861480  \n",
      "                                                                 \n",
      " global_average_pooling2d_9  (None, 2048)              0         \n",
      "  (GlobalAveragePooling2D)                                       \n",
      "                                                                 \n",
      " dense_27 (Dense)            (None, 128)               262272    \n",
      "                                                                 \n",
      " dense_28 (Dense)            (None, 64)                8256      \n",
      "                                                                 \n",
      " dense_29 (Dense)            (None, 2)                 130       \n",
      "                                                                 \n",
      "=================================================================\n",
      "Total params: 21132138 (80.61 MB)\n",
      "Trainable params: 9749002 (37.19 MB)\n",
      "Non-trainable params: 11383136 (43.42 MB)\n",
      "_________________________________________________________________\n"
     ]
    }
   ],
   "source": [
    "# Freeze first N layers, e.g., until the 133rd one\n",
    "N = 100\n",
    "for i, layer in enumerate(layers[:N]):\n",
    "  layer.trainable=False\n",
    "for i, layer in enumerate(layers):\n",
    "   print(i, layer.name, layer.trainable)\n",
    "ft_model.summary()"
   ]
  },
  {
   "cell_type": "code",
   "execution_count": 59,
   "metadata": {},
   "outputs": [
    {
     "name": "stderr",
     "output_type": "stream",
     "text": [
      "WARNING:absl:At this time, the v2.11+ optimizer `tf.keras.optimizers.Adam` runs slowly on M1/M2 Macs, please use the legacy Keras optimizer instead, located at `tf.keras.optimizers.legacy.Adam`.\n"
     ]
    }
   ],
   "source": [
    "ft_model.compile(loss=tfk.losses.CategoricalCrossentropy(), optimizer=tfk.optimizers.Adam(), metrics=['accuracy'])"
   ]
  },
  {
   "cell_type": "code",
   "execution_count": 61,
   "metadata": {},
   "outputs": [
    {
     "name": "stdout",
     "output_type": "stream",
     "text": [
      "Epoch 1/200\n",
      "251/251 [==============================] - 64s 255ms/step - loss: 0.0382 - accuracy: 0.9880 - val_loss: 0.7190 - val_accuracy: 0.8044\n",
      "Epoch 2/200\n",
      "251/251 [==============================] - 62s 246ms/step - loss: 0.1146 - accuracy: 0.9600 - val_loss: 1.0708 - val_accuracy: 0.7884\n",
      "Epoch 3/200\n",
      "251/251 [==============================] - 58s 231ms/step - loss: 0.0326 - accuracy: 0.9890 - val_loss: 0.7466 - val_accuracy: 0.8104\n",
      "Epoch 4/200\n",
      "251/251 [==============================] - 56s 223ms/step - loss: 0.0536 - accuracy: 0.9835 - val_loss: 0.9111 - val_accuracy: 0.8144\n",
      "Epoch 5/200\n",
      "251/251 [==============================] - 60s 240ms/step - loss: 0.0229 - accuracy: 0.9933 - val_loss: 0.8590 - val_accuracy: 0.8144\n",
      "Epoch 6/200\n",
      "251/251 [==============================] - 60s 239ms/step - loss: 0.0198 - accuracy: 0.9925 - val_loss: 0.9663 - val_accuracy: 0.8084\n",
      "Epoch 7/200\n",
      "251/251 [==============================] - 59s 237ms/step - loss: 0.0198 - accuracy: 0.9948 - val_loss: 1.0934 - val_accuracy: 0.8044\n",
      "Epoch 8/200\n",
      "251/251 [==============================] - 57s 227ms/step - loss: 0.0226 - accuracy: 0.9928 - val_loss: 0.8701 - val_accuracy: 0.8064\n",
      "Epoch 9/200\n",
      "251/251 [==============================] - 58s 230ms/step - loss: 0.0217 - accuracy: 0.9935 - val_loss: 0.8870 - val_accuracy: 0.8064\n",
      "Epoch 10/200\n",
      "251/251 [==============================] - 56s 225ms/step - loss: 0.0147 - accuracy: 0.9953 - val_loss: 1.0874 - val_accuracy: 0.8204\n",
      "Epoch 11/200\n",
      "251/251 [==============================] - 62s 245ms/step - loss: 0.0218 - accuracy: 0.9953 - val_loss: 0.8151 - val_accuracy: 0.8084\n",
      "Epoch 12/200\n",
      "251/251 [==============================] - 65s 257ms/step - loss: 0.0409 - accuracy: 0.9875 - val_loss: 0.8610 - val_accuracy: 0.7904\n",
      "Epoch 13/200\n",
      "251/251 [==============================] - 61s 242ms/step - loss: 0.0237 - accuracy: 0.9920 - val_loss: 0.8597 - val_accuracy: 0.8104\n",
      "Epoch 14/200\n",
      "251/251 [==============================] - 57s 226ms/step - loss: 0.0246 - accuracy: 0.9938 - val_loss: 0.8024 - val_accuracy: 0.8024\n",
      "Epoch 15/200\n",
      "251/251 [==============================] - 59s 236ms/step - loss: 0.0919 - accuracy: 0.9695 - val_loss: 0.9022 - val_accuracy: 0.8263\n",
      "Epoch 16/200\n",
      "251/251 [==============================] - 59s 236ms/step - loss: 0.0398 - accuracy: 0.9868 - val_loss: 1.1456 - val_accuracy: 0.8263\n",
      "Epoch 17/200\n",
      "251/251 [==============================] - 60s 239ms/step - loss: 0.0090 - accuracy: 0.9980 - val_loss: 1.2227 - val_accuracy: 0.8323\n",
      "Epoch 18/200\n",
      "251/251 [==============================] - 64s 255ms/step - loss: 0.0088 - accuracy: 0.9970 - val_loss: 0.9930 - val_accuracy: 0.8144\n",
      "Epoch 19/200\n",
      "251/251 [==============================] - 59s 235ms/step - loss: 0.0128 - accuracy: 0.9958 - val_loss: 0.9790 - val_accuracy: 0.8263\n",
      "Epoch 20/200\n",
      "251/251 [==============================] - 61s 242ms/step - loss: 0.0048 - accuracy: 0.9980 - val_loss: 1.1673 - val_accuracy: 0.8303\n",
      "Epoch 21/200\n",
      "251/251 [==============================] - 60s 237ms/step - loss: 0.0140 - accuracy: 0.9960 - val_loss: 1.0194 - val_accuracy: 0.8064\n",
      "Epoch 22/200\n",
      "251/251 [==============================] - 62s 246ms/step - loss: 0.0877 - accuracy: 0.9728 - val_loss: 1.1057 - val_accuracy: 0.7904\n",
      "Epoch 23/200\n",
      "251/251 [==============================] - 58s 232ms/step - loss: 0.0238 - accuracy: 0.9938 - val_loss: 0.8508 - val_accuracy: 0.8104\n",
      "Epoch 24/200\n",
      "251/251 [==============================] - 58s 229ms/step - loss: 0.0140 - accuracy: 0.9955 - val_loss: 1.1068 - val_accuracy: 0.8024\n",
      "Epoch 25/200\n",
      "251/251 [==============================] - 58s 229ms/step - loss: 0.0166 - accuracy: 0.9953 - val_loss: 0.7385 - val_accuracy: 0.8124\n",
      "Epoch 26/200\n",
      "251/251 [==============================] - 57s 229ms/step - loss: 0.0121 - accuracy: 0.9973 - val_loss: 1.0940 - val_accuracy: 0.8144\n",
      "Epoch 27/200\n",
      "251/251 [==============================] - 58s 230ms/step - loss: 0.0072 - accuracy: 0.9990 - val_loss: 1.1666 - val_accuracy: 0.8064\n"
     ]
    }
   ],
   "source": [
    "# Train the model\n",
    "ft_history = ft_model.fit(\n",
    "    x = xception_preprocess_input(X_train*255),\n",
    "    y = y_train,\n",
    "    batch_size = batch_size,\n",
    "    epochs = epochs,\n",
    "    validation_data = (xception_preprocess_input(X_val*255), y_val),\n",
    "    callbacks = callbacks\n",
    ").history"
   ]
  },
  {
   "cell_type": "code",
   "execution_count": 62,
   "metadata": {},
   "outputs": [],
   "source": [
    "ft_model.save('models/xception_ft_model')\n",
    "del ft_model"
   ]
  },
  {
   "cell_type": "markdown",
   "metadata": {},
   "source": [
    "## Make Inference"
   ]
  },
  {
   "cell_type": "code",
   "execution_count": 63,
   "metadata": {},
   "outputs": [
    {
     "name": "stderr",
     "output_type": "stream",
     "text": [
      "WARNING:absl:At this time, the v2.11+ optimizer `tf.keras.optimizers.RestoredOptimizer` runs slowly on M1/M2 Macs, please use the legacy Keras optimizer instead, located at `tf.keras.optimizers.legacy.RestoredOptimizer`.\n",
      "WARNING:absl:At this time, the v2.11+ optimizer `tf.keras.optimizers.Adam` runs slowly on M1/M2 Macs, please use the legacy Keras optimizer instead, located at `tf.keras.optimizers.legacy.Adam`.\n"
     ]
    },
    {
     "name": "stdout",
     "output_type": "stream",
     "text": [
      "Model: \"xception_tl_model\"\n",
      "_________________________________________________________________\n",
      " Layer (type)                Output Shape              Param #   \n",
      "=================================================================\n",
      " input_13 (InputLayer)       [(None, 96, 96, 3)]       0         \n",
      "                                                                 \n",
      " xception (Functional)       (None, 3, 3, 2048)        20861480  \n",
      "                                                                 \n",
      " global_average_pooling2d_9  (None, 2048)              0         \n",
      "  (GlobalAveragePooling2D)                                       \n",
      "                                                                 \n",
      " dense_27 (Dense)            (None, 128)               262272    \n",
      "                                                                 \n",
      " dense_28 (Dense)            (None, 64)                8256      \n",
      "                                                                 \n",
      " dense_29 (Dense)            (None, 2)                 130       \n",
      "                                                                 \n",
      "=================================================================\n",
      "Total params: 21132138 (80.61 MB)\n",
      "Trainable params: 9749002 (37.19 MB)\n",
      "Non-trainable params: 11383136 (43.42 MB)\n",
      "_________________________________________________________________\n"
     ]
    }
   ],
   "source": [
    "model_name = 'xception_ft_model'\n",
    "model = tfk.models.load_model(f'{models_dir}/{model_name}')\n",
    "model.summary()"
   ]
  },
  {
   "cell_type": "code",
   "execution_count": 64,
   "metadata": {},
   "outputs": [
    {
     "name": "stdout",
     "output_type": "stream",
     "text": [
      "Predictions Shape: (501, 2)\n"
     ]
    }
   ],
   "source": [
    "# Predict labels for the entire test set\n",
    "predictions = model.predict(xception_preprocess_input(X_test * 255), verbose=0)\n",
    "\n",
    "# Display the shape of the predictions\n",
    "print(\"Predictions Shape:\", predictions.shape)"
   ]
  },
  {
   "cell_type": "code",
   "execution_count": 68,
   "metadata": {},
   "outputs": [
    {
     "name": "stdout",
     "output_type": "stream",
     "text": [
      "Accuracy: 0.8144\n",
      "Precision: 0.8087\n",
      "Recall: 0.7917\n",
      "F1: 0.7982\n"
     ]
    },
    {
     "data": {
      "image/png": "[encoded data removed]",
      "text/plain": [
       "<Figure size 1000x800 with 2 Axes>"
      ]
     },
     "metadata": {},
     "output_type": "display_data"
    }
   ],
   "source": [
    "\n",
    "# Compute the confusion matrix\n",
    "rounded_predictions = np.argmax(predictions, axis=-1)\n",
    "cm = confusion_matrix(np.argmax(y_test, axis=-1), rounded_predictions)\n",
    "\n",
    "# Compute classification metrics\n",
    "accuracy = accuracy_score(np.argmax(y_test, axis=-1), rounded_predictions)\n",
    "precision = precision_score(np.argmax(y_test, axis=-1), rounded_predictions, average='macro')\n",
    "recall = recall_score(np.argmax(y_test, axis=-1), rounded_predictions, average='macro')\n",
    "f1 = f1_score(np.argmax(y_test, axis=-1), rounded_predictions, average='macro')\n",
    "\n",
    "# Display the computed metrics\n",
    "print('Accuracy:', accuracy.round(4))\n",
    "print('Precision:', precision.round(4))\n",
    "print('Recall:', recall.round(4))\n",
    "print('F1:', f1.round(4))\n",
    "\n",
    "# Plot the confusion matrix\n",
    "plt.figure(figsize=(10, 8))\n",
    "sns.heatmap(cm.T, xticklabels=list(labels.values()), yticklabels=list(labels.values()), cmap='Blues')\n",
    "plt.xlabel('True labels')\n",
    "plt.ylabel('Predicted labels')\n",
    "plt.show()"
   ]
  }
 ],
 "metadata": {
  "kernelspec": {
   "display_name": "env",
   "language": "python",
   "name": "python3"
  },
  "language_info": {
   "codemirror_mode": {
    "name": "ipython",
    "version": 3
   },
   "file_extension": ".py",
   "mimetype": "text/x-python",
   "name": "python",
   "nbconvert_exporter": "python",
   "pygments_lexer": "ipython3",
   "version": "3.11.5"
  }
 },
 "nbformat": 4,
 "nbformat_minor": 2
}
